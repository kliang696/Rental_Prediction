{
  "nbformat": 4,
  "nbformat_minor": 0,
  "metadata": {
    "colab": {
      "provenance": [],
      "mount_file_id": "1C-FdSsNubeTeTaAVM4v647eW8GnaI3pc",
      "authorship_tag": "ABX9TyPowYut4SrIYadsf4ECOv71",
      "include_colab_link": true
    },
    "kernelspec": {
      "name": "python3",
      "display_name": "Python 3"
    },
    "language_info": {
      "name": "python"
    }
  },
  "cells": [
    {
      "cell_type": "markdown",
      "metadata": {
        "id": "view-in-github",
        "colab_type": "text"
      },
      "source": [
        "<a href=\"https://colab.research.google.com/github/kliang696/Udemy_Analysis/blob/main/catboost.ipynb\" target=\"_parent\"><img src=\"https://colab.research.google.com/assets/colab-badge.svg\" alt=\"Open In Colab\"/></a>"
      ]
    },
    {
      "cell_type": "code",
      "execution_count": 28,
      "metadata": {
        "id": "CPr9K_rBzpjP"
      },
      "outputs": [],
      "source": [
        "import numpy as np\n",
        "from scipy.stats import mstats\n",
        "from scipy.stats.mstats import winsorize"
      ]
    },
    {
      "cell_type": "code",
      "source": [
        "import pandas as pd\n",
        "import numpy as np\n",
        "import seaborn as sns\n",
        "import matplotlib.pyplot as plt\n",
        "import warnings\n",
        "warnings.filterwarnings(\"ignore\")\n"
      ],
      "metadata": {
        "id": "lh2_M8PGz2Md"
      },
      "execution_count": 29,
      "outputs": []
    },
    {
      "cell_type": "code",
      "source": [
        "my_df = pd.read_csv(\"/content/drive/MyDrive/udemy/Course_info.csv\")"
      ],
      "metadata": {
        "id": "gnFVg25oz29Z"
      },
      "execution_count": 30,
      "outputs": []
    },
    {
      "cell_type": "markdown",
      "source": [
        "## Exclude unnecessary data"
      ],
      "metadata": {
        "id": "tKDIzfEG9HtR"
      }
    },
    {
      "cell_type": "code",
      "source": [
        "df = my_df.drop(columns=['course_url', 'instructor_name','instructor_url','headline', 'title'])"
      ],
      "metadata": {
        "id": "0edwRKDGz6oU"
      },
      "execution_count": 31,
      "outputs": []
    },
    {
      "cell_type": "code",
      "source": [
        "df = df[df[\"num_subscribers\"]>0]"
      ],
      "metadata": {
        "id": "Yt6ULKAjz9tQ"
      },
      "execution_count": 32,
      "outputs": []
    },
    {
      "cell_type": "code",
      "source": [
        "df = df[df[\"is_paid\"]==True]"
      ],
      "metadata": {
        "id": "47DdtA-F0BLc"
      },
      "execution_count": 33,
      "outputs": []
    },
    {
      "cell_type": "code",
      "source": [
        "df = df[df['content_length_min']>0]"
      ],
      "metadata": {
        "id": "LyGZ08x40B-P"
      },
      "execution_count": 34,
      "outputs": []
    },
    {
      "cell_type": "code",
      "source": [
        "df = df[df['num_lectures']>0]"
      ],
      "metadata": {
        "id": "Ri3RT2j60E1e"
      },
      "execution_count": 35,
      "outputs": []
    },
    {
      "cell_type": "code",
      "source": [
        "print(df.isna().sum())"
      ],
      "metadata": {
        "colab": {
          "base_uri": "https://localhost:8080/"
        },
        "id": "N1_2u3cs0Knm",
        "outputId": "6b49213e-0ec0-46cc-8743-8e609c849639"
      },
      "execution_count": 36,
      "outputs": [
        {
          "output_type": "stream",
          "name": "stdout",
          "text": [
            "id                      0\n",
            "is_paid                 0\n",
            "price                   0\n",
            "num_subscribers         0\n",
            "avg_rating              0\n",
            "num_reviews             0\n",
            "num_comments            0\n",
            "num_lectures            0\n",
            "content_length_min      0\n",
            "published_time          0\n",
            "last_update_date      119\n",
            "category                0\n",
            "subcategory             0\n",
            "topic                 651\n",
            "language                0\n",
            "dtype: int64\n"
          ]
        }
      ]
    },
    {
      "cell_type": "code",
      "source": [
        "df.dropna(inplace=True)"
      ],
      "metadata": {
        "id": "7J8NsrVS0HXa"
      },
      "execution_count": 37,
      "outputs": []
    },
    {
      "cell_type": "markdown",
      "source": [
        "## Feature Engineer"
      ],
      "metadata": {
        "id": "v9oSebiw9Zih"
      }
    },
    {
      "cell_type": "code",
      "source": [
        "df['published_time'] = pd.to_datetime(df['published_time'])\n",
        "df['published_time'] = df['published_time'].dt.strftime('%Y-%m-%d')\n",
        "\n",
        "df['last_update_date'] = pd.to_datetime(df['last_update_date'])\n",
        "df['last_update_date'] = df['last_update_date'].dt.strftime('%Y-%m-%d')"
      ],
      "metadata": {
        "id": "o44zYt4-0Mqb"
      },
      "execution_count": 38,
      "outputs": []
    },
    {
      "cell_type": "code",
      "source": [
        "df['total_days_maintained']=(pd.to_datetime(df['last_update_date']) - pd.to_datetime(df['published_time'])).dt.days"
      ],
      "metadata": {
        "id": "IG9VpbOk0P6P"
      },
      "execution_count": 39,
      "outputs": []
    },
    {
      "cell_type": "code",
      "source": [
        "df.loc[df[\"total_days_maintained\"] <= 0, \"total_days_maintained\"] = 0"
      ],
      "metadata": {
        "id": "t7c2Q6mC0SUm"
      },
      "execution_count": 40,
      "outputs": []
    },
    {
      "cell_type": "code",
      "source": [
        "df['total_days_maintained'].describe()"
      ],
      "metadata": {
        "colab": {
          "base_uri": "https://localhost:8080/"
        },
        "id": "T5eXVzxE0U9r",
        "outputId": "056f7f60-725b-4b66-b097-d7210ddd2b05"
      },
      "execution_count": 41,
      "outputs": [
        {
          "output_type": "execute_result",
          "data": {
            "text/plain": [
              "count    169360.000000\n",
              "mean        299.699598\n",
              "std         520.415914\n",
              "min           0.000000\n",
              "25%           0.000000\n",
              "50%          15.000000\n",
              "75%         401.000000\n",
              "max        4098.000000\n",
              "Name: total_days_maintained, dtype: float64"
            ]
          },
          "metadata": {},
          "execution_count": 41
        }
      ]
    },
    {
      "cell_type": "code",
      "source": [
        "date_string = \"2022 10 30\"\n",
        "date_object = pd.to_datetime(date_string, format='%Y %m %d')\n",
        "df['course_age']=(date_object - pd.to_datetime(df['published_time'])).dt.days"
      ],
      "metadata": {
        "id": "p0KuVSJb0XK0"
      },
      "execution_count": 42,
      "outputs": []
    },
    {
      "cell_type": "code",
      "source": [
        "df['course_age'].describe()"
      ],
      "metadata": {
        "colab": {
          "base_uri": "https://localhost:8080/"
        },
        "id": "290Ska1J0aLc",
        "outputId": "db2c848c-b0e1-4206-eee2-4e16ef41f8ed"
      },
      "execution_count": 43,
      "outputs": [
        {
          "output_type": "execute_result",
          "data": {
            "text/plain": [
              "count    169360.000000\n",
              "mean       1050.095288\n",
              "std         766.526419\n",
              "min          25.000000\n",
              "25%         473.000000\n",
              "50%         849.000000\n",
              "75%        1493.000000\n",
              "max        4582.000000\n",
              "Name: course_age, dtype: float64"
            ]
          },
          "metadata": {},
          "execution_count": 43
        }
      ]
    },
    {
      "cell_type": "code",
      "source": [
        "df[\"total_amount\"] = df[\"num_subscribers\"] * df[\"price\"]"
      ],
      "metadata": {
        "id": "r39Rg1l80dWl"
      },
      "execution_count": 44,
      "outputs": []
    },
    {
      "cell_type": "markdown",
      "source": [
        "## Outlier and data transformation"
      ],
      "metadata": {
        "id": "FesgdNkv9klN"
      }
    },
    {
      "cell_type": "code",
      "source": [
        "num=[\"price\",\"num_subscribers\",\"avg_rating\",\"num_reviews\",\"num_comments\",\"num_lectures\",\"content_length_min\",\"course_age\",\"total_days_maintained\",\"total_amount\"]"
      ],
      "metadata": {
        "id": "T6eSlAvv0hJu"
      },
      "execution_count": 45,
      "outputs": []
    },
    {
      "cell_type": "code",
      "source": [
        "lower_threshold = 0\n",
        "upper_threshold = 0.1\n",
        "\n",
        "for i in range(len(num)):\n",
        "    column = num[i]\n",
        "    df[column] = winsorize(df[column], limits=(lower_threshold, upper_threshold))"
      ],
      "metadata": {
        "id": "6QVNmt960kDt"
      },
      "execution_count": 46,
      "outputs": []
    },
    {
      "cell_type": "code",
      "source": [
        "df.describe()"
      ],
      "metadata": {
        "colab": {
          "base_uri": "https://localhost:8080/",
          "height": 297
        },
        "id": "MEigKPrJByQB",
        "outputId": "d158be55-079f-4019-8275-13998661fdfa"
      },
      "execution_count": 71,
      "outputs": [
        {
          "output_type": "execute_result",
          "data": {
            "text/plain": [
              "                 id          price  num_subscribers     avg_rating  \\\n",
              "count  1.693600e+05  169360.000000    169360.000000  169360.000000   \n",
              "mean   2.910096e+06      79.018398      1092.747243       3.929586   \n",
              "std    1.341340e+06      68.340494      1735.777913       1.322655   \n",
              "min    2.762000e+03       0.100000         1.000000       0.000000   \n",
              "25%    1.818672e+06      19.990000        30.000000       3.944444   \n",
              "50%    3.122529e+06      49.990000       186.000000       4.357143   \n",
              "75%    4.082374e+06     124.990000      1219.000000       4.650000   \n",
              "max    4.913954e+06     199.990000      5362.000000       4.890625   \n",
              "\n",
              "         num_reviews   num_comments   num_lectures  content_length_min  \\\n",
              "count  169360.000000  169360.000000  169360.000000       169360.000000   \n",
              "mean       67.107056      15.935427      34.278342          240.882026   \n",
              "std        98.583913      22.079179      25.481093          197.584754   \n",
              "min         0.000000       0.000000       1.000000            1.000000   \n",
              "25%         4.000000       1.000000      14.000000           87.000000   \n",
              "50%        19.000000       5.000000      26.000000          166.000000   \n",
              "75%        77.000000      20.000000      48.000000          338.000000   \n",
              "max       309.000000      69.000000      87.000000          661.000000   \n",
              "\n",
              "       total_days_maintained     course_age   total_amount  \n",
              "count          169360.000000  169360.000000  169360.000000  \n",
              "mean              242.294479     999.252391   82609.072724  \n",
              "std               356.446170     654.737450  141837.355711  \n",
              "min                 0.000000      25.000000       0.100000  \n",
              "25%                 0.000000     473.000000    1199.520000  \n",
              "50%                15.000000     849.000000   10074.960000  \n",
              "75%               401.000000    1493.000000   77842.215000  \n",
              "max              1025.000000    2203.000000  440377.980000  "
            ],
            "text/html": [
              "\n",
              "  <div id=\"df-ac204b6e-fbed-48bc-ad83-6cf79be454f9\">\n",
              "    <div class=\"colab-df-container\">\n",
              "      <div>\n",
              "<style scoped>\n",
              "    .dataframe tbody tr th:only-of-type {\n",
              "        vertical-align: middle;\n",
              "    }\n",
              "\n",
              "    .dataframe tbody tr th {\n",
              "        vertical-align: top;\n",
              "    }\n",
              "\n",
              "    .dataframe thead th {\n",
              "        text-align: right;\n",
              "    }\n",
              "</style>\n",
              "<table border=\"1\" class=\"dataframe\">\n",
              "  <thead>\n",
              "    <tr style=\"text-align: right;\">\n",
              "      <th></th>\n",
              "      <th>id</th>\n",
              "      <th>price</th>\n",
              "      <th>num_subscribers</th>\n",
              "      <th>avg_rating</th>\n",
              "      <th>num_reviews</th>\n",
              "      <th>num_comments</th>\n",
              "      <th>num_lectures</th>\n",
              "      <th>content_length_min</th>\n",
              "      <th>total_days_maintained</th>\n",
              "      <th>course_age</th>\n",
              "      <th>total_amount</th>\n",
              "    </tr>\n",
              "  </thead>\n",
              "  <tbody>\n",
              "    <tr>\n",
              "      <th>count</th>\n",
              "      <td>1.693600e+05</td>\n",
              "      <td>169360.000000</td>\n",
              "      <td>169360.000000</td>\n",
              "      <td>169360.000000</td>\n",
              "      <td>169360.000000</td>\n",
              "      <td>169360.000000</td>\n",
              "      <td>169360.000000</td>\n",
              "      <td>169360.000000</td>\n",
              "      <td>169360.000000</td>\n",
              "      <td>169360.000000</td>\n",
              "      <td>169360.000000</td>\n",
              "    </tr>\n",
              "    <tr>\n",
              "      <th>mean</th>\n",
              "      <td>2.910096e+06</td>\n",
              "      <td>79.018398</td>\n",
              "      <td>1092.747243</td>\n",
              "      <td>3.929586</td>\n",
              "      <td>67.107056</td>\n",
              "      <td>15.935427</td>\n",
              "      <td>34.278342</td>\n",
              "      <td>240.882026</td>\n",
              "      <td>242.294479</td>\n",
              "      <td>999.252391</td>\n",
              "      <td>82609.072724</td>\n",
              "    </tr>\n",
              "    <tr>\n",
              "      <th>std</th>\n",
              "      <td>1.341340e+06</td>\n",
              "      <td>68.340494</td>\n",
              "      <td>1735.777913</td>\n",
              "      <td>1.322655</td>\n",
              "      <td>98.583913</td>\n",
              "      <td>22.079179</td>\n",
              "      <td>25.481093</td>\n",
              "      <td>197.584754</td>\n",
              "      <td>356.446170</td>\n",
              "      <td>654.737450</td>\n",
              "      <td>141837.355711</td>\n",
              "    </tr>\n",
              "    <tr>\n",
              "      <th>min</th>\n",
              "      <td>2.762000e+03</td>\n",
              "      <td>0.100000</td>\n",
              "      <td>1.000000</td>\n",
              "      <td>0.000000</td>\n",
              "      <td>0.000000</td>\n",
              "      <td>0.000000</td>\n",
              "      <td>1.000000</td>\n",
              "      <td>1.000000</td>\n",
              "      <td>0.000000</td>\n",
              "      <td>25.000000</td>\n",
              "      <td>0.100000</td>\n",
              "    </tr>\n",
              "    <tr>\n",
              "      <th>25%</th>\n",
              "      <td>1.818672e+06</td>\n",
              "      <td>19.990000</td>\n",
              "      <td>30.000000</td>\n",
              "      <td>3.944444</td>\n",
              "      <td>4.000000</td>\n",
              "      <td>1.000000</td>\n",
              "      <td>14.000000</td>\n",
              "      <td>87.000000</td>\n",
              "      <td>0.000000</td>\n",
              "      <td>473.000000</td>\n",
              "      <td>1199.520000</td>\n",
              "    </tr>\n",
              "    <tr>\n",
              "      <th>50%</th>\n",
              "      <td>3.122529e+06</td>\n",
              "      <td>49.990000</td>\n",
              "      <td>186.000000</td>\n",
              "      <td>4.357143</td>\n",
              "      <td>19.000000</td>\n",
              "      <td>5.000000</td>\n",
              "      <td>26.000000</td>\n",
              "      <td>166.000000</td>\n",
              "      <td>15.000000</td>\n",
              "      <td>849.000000</td>\n",
              "      <td>10074.960000</td>\n",
              "    </tr>\n",
              "    <tr>\n",
              "      <th>75%</th>\n",
              "      <td>4.082374e+06</td>\n",
              "      <td>124.990000</td>\n",
              "      <td>1219.000000</td>\n",
              "      <td>4.650000</td>\n",
              "      <td>77.000000</td>\n",
              "      <td>20.000000</td>\n",
              "      <td>48.000000</td>\n",
              "      <td>338.000000</td>\n",
              "      <td>401.000000</td>\n",
              "      <td>1493.000000</td>\n",
              "      <td>77842.215000</td>\n",
              "    </tr>\n",
              "    <tr>\n",
              "      <th>max</th>\n",
              "      <td>4.913954e+06</td>\n",
              "      <td>199.990000</td>\n",
              "      <td>5362.000000</td>\n",
              "      <td>4.890625</td>\n",
              "      <td>309.000000</td>\n",
              "      <td>69.000000</td>\n",
              "      <td>87.000000</td>\n",
              "      <td>661.000000</td>\n",
              "      <td>1025.000000</td>\n",
              "      <td>2203.000000</td>\n",
              "      <td>440377.980000</td>\n",
              "    </tr>\n",
              "  </tbody>\n",
              "</table>\n",
              "</div>\n",
              "      <button class=\"colab-df-convert\" onclick=\"convertToInteractive('df-ac204b6e-fbed-48bc-ad83-6cf79be454f9')\"\n",
              "              title=\"Convert this dataframe to an interactive table.\"\n",
              "              style=\"display:none;\">\n",
              "        \n",
              "  <svg xmlns=\"http://www.w3.org/2000/svg\" height=\"24px\"viewBox=\"0 0 24 24\"\n",
              "       width=\"24px\">\n",
              "    <path d=\"M0 0h24v24H0V0z\" fill=\"none\"/>\n",
              "    <path d=\"M18.56 5.44l.94 2.06.94-2.06 2.06-.94-2.06-.94-.94-2.06-.94 2.06-2.06.94zm-11 1L8.5 8.5l.94-2.06 2.06-.94-2.06-.94L8.5 2.5l-.94 2.06-2.06.94zm10 10l.94 2.06.94-2.06 2.06-.94-2.06-.94-.94-2.06-.94 2.06-2.06.94z\"/><path d=\"M17.41 7.96l-1.37-1.37c-.4-.4-.92-.59-1.43-.59-.52 0-1.04.2-1.43.59L10.3 9.45l-7.72 7.72c-.78.78-.78 2.05 0 2.83L4 21.41c.39.39.9.59 1.41.59.51 0 1.02-.2 1.41-.59l7.78-7.78 2.81-2.81c.8-.78.8-2.07 0-2.86zM5.41 20L4 18.59l7.72-7.72 1.47 1.35L5.41 20z\"/>\n",
              "  </svg>\n",
              "      </button>\n",
              "      \n",
              "  <style>\n",
              "    .colab-df-container {\n",
              "      display:flex;\n",
              "      flex-wrap:wrap;\n",
              "      gap: 12px;\n",
              "    }\n",
              "\n",
              "    .colab-df-convert {\n",
              "      background-color: #E8F0FE;\n",
              "      border: none;\n",
              "      border-radius: 50%;\n",
              "      cursor: pointer;\n",
              "      display: none;\n",
              "      fill: #1967D2;\n",
              "      height: 32px;\n",
              "      padding: 0 0 0 0;\n",
              "      width: 32px;\n",
              "    }\n",
              "\n",
              "    .colab-df-convert:hover {\n",
              "      background-color: #E2EBFA;\n",
              "      box-shadow: 0px 1px 2px rgba(60, 64, 67, 0.3), 0px 1px 3px 1px rgba(60, 64, 67, 0.15);\n",
              "      fill: #174EA6;\n",
              "    }\n",
              "\n",
              "    [theme=dark] .colab-df-convert {\n",
              "      background-color: #3B4455;\n",
              "      fill: #D2E3FC;\n",
              "    }\n",
              "\n",
              "    [theme=dark] .colab-df-convert:hover {\n",
              "      background-color: #434B5C;\n",
              "      box-shadow: 0px 1px 3px 1px rgba(0, 0, 0, 0.15);\n",
              "      filter: drop-shadow(0px 1px 2px rgba(0, 0, 0, 0.3));\n",
              "      fill: #FFFFFF;\n",
              "    }\n",
              "  </style>\n",
              "\n",
              "      <script>\n",
              "        const buttonEl =\n",
              "          document.querySelector('#df-ac204b6e-fbed-48bc-ad83-6cf79be454f9 button.colab-df-convert');\n",
              "        buttonEl.style.display =\n",
              "          google.colab.kernel.accessAllowed ? 'block' : 'none';\n",
              "\n",
              "        async function convertToInteractive(key) {\n",
              "          const element = document.querySelector('#df-ac204b6e-fbed-48bc-ad83-6cf79be454f9');\n",
              "          const dataTable =\n",
              "            await google.colab.kernel.invokeFunction('convertToInteractive',\n",
              "                                                     [key], {});\n",
              "          if (!dataTable) return;\n",
              "\n",
              "          const docLinkHtml = 'Like what you see? Visit the ' +\n",
              "            '<a target=\"_blank\" href=https://colab.research.google.com/notebooks/data_table.ipynb>data table notebook</a>'\n",
              "            + ' to learn more about interactive tables.';\n",
              "          element.innerHTML = '';\n",
              "          dataTable['output_type'] = 'display_data';\n",
              "          await google.colab.output.renderOutput(dataTable, element);\n",
              "          const docLink = document.createElement('div');\n",
              "          docLink.innerHTML = docLinkHtml;\n",
              "          element.appendChild(docLink);\n",
              "        }\n",
              "      </script>\n",
              "    </div>\n",
              "  </div>\n",
              "  "
            ]
          },
          "metadata": {},
          "execution_count": 71
        }
      ]
    },
    {
      "cell_type": "code",
      "source": [
        "from sklearn.preprocessing import StandardScaler\n",
        "from sklearn.preprocessing import MinMaxScaler\n",
        "from sklearn.preprocessing import RobustScaler\n",
        "from sklearn.impute import SimpleImputer\n",
        "\n",
        "\n",
        "scaler = StandardScaler()\n",
        "\n",
        " #Fit the scaler to the data set\n",
        "scaler.fit(df[num])\n",
        "\n",
        "  # Apply the normalization to the data set\n",
        "normalized_data = scaler.transform(df[num])\n",
        "\n",
        "\n",
        "df_normalized_num = pd.DataFrame(normalized_data, columns=df[num].columns)\n"
      ],
      "metadata": {
        "id": "bauxisfv0mes"
      },
      "execution_count": 72,
      "outputs": []
    },
    {
      "cell_type": "code",
      "source": [
        "df_normalized_num.describe()"
      ],
      "metadata": {
        "colab": {
          "base_uri": "https://localhost:8080/",
          "height": 297
        },
        "id": "dkhmC3-5B6yb",
        "outputId": "8454f926-cdee-437e-96a3-4caad90857a7"
      },
      "execution_count": 74,
      "outputs": [
        {
          "output_type": "execute_result",
          "data": {
            "text/plain": [
              "              price  num_subscribers    avg_rating   num_reviews  \\\n",
              "count  1.693600e+05     1.693600e+05  1.693600e+05  1.693600e+05   \n",
              "mean   9.867717e-17    -5.638695e-17  9.827440e-16  4.296149e-17   \n",
              "std    1.000003e+00     1.000003e+00  1.000003e+00  1.000003e+00   \n",
              "min   -1.154786e+00    -6.289690e-01 -2.970992e+00 -6.807120e-01   \n",
              "25%   -8.637423e-01    -6.122617e-01  1.123382e-02 -6.401373e-01   \n",
              "50%   -4.247626e-01    -5.223882e-01  3.232576e-01 -4.879822e-01   \n",
              "75%    6.726866e-01     7.273576e-02  5.446743e-01  1.003508e-01   \n",
              "max    1.770136e+00     2.459569e+00  7.266005e-01  2.453683e+00   \n",
              "\n",
              "       num_comments  num_lectures  content_length_min    course_age  \\\n",
              "count  1.693600e+05  1.693600e+05        1.693600e+05  1.693600e+05   \n",
              "mean  -3.222112e-17  2.416584e-17        3.289239e-17 -6.981242e-17   \n",
              "std    1.000003e+00  1.000003e+00        1.000003e+00  1.000003e+00   \n",
              "min   -7.217422e-01 -1.306005e+00       -1.214075e+00 -1.488009e+00   \n",
              "25%   -6.764505e-01 -7.958215e-01       -7.788176e-01 -8.037633e-01   \n",
              "50%   -4.952838e-01 -3.248827e-01       -3.789880e-01 -2.294856e-01   \n",
              "75%    1.840913e-01  5.385051e-01        4.915271e-01  7.541176e-01   \n",
              "max    2.403383e+00  2.069056e+00        2.126273e+00  1.838525e+00   \n",
              "\n",
              "       total_days_maintained  total_amount  \n",
              "count           1.693600e+05  1.693600e+05  \n",
              "mean            8.055279e-18  4.564658e-17  \n",
              "std             1.000003e+00  1.000003e+00  \n",
              "min            -6.797526e-01 -5.824221e-01  \n",
              "25%            -6.797526e-01 -5.739658e-01  \n",
              "50%            -6.376703e-01 -5.113909e-01  \n",
              "75%             4.452453e-01 -3.360801e-02  \n",
              "max             2.195865e+00  2.522396e+00  "
            ],
            "text/html": [
              "\n",
              "  <div id=\"df-30aedc6e-9962-4272-ae42-8d7200f147e1\">\n",
              "    <div class=\"colab-df-container\">\n",
              "      <div>\n",
              "<style scoped>\n",
              "    .dataframe tbody tr th:only-of-type {\n",
              "        vertical-align: middle;\n",
              "    }\n",
              "\n",
              "    .dataframe tbody tr th {\n",
              "        vertical-align: top;\n",
              "    }\n",
              "\n",
              "    .dataframe thead th {\n",
              "        text-align: right;\n",
              "    }\n",
              "</style>\n",
              "<table border=\"1\" class=\"dataframe\">\n",
              "  <thead>\n",
              "    <tr style=\"text-align: right;\">\n",
              "      <th></th>\n",
              "      <th>price</th>\n",
              "      <th>num_subscribers</th>\n",
              "      <th>avg_rating</th>\n",
              "      <th>num_reviews</th>\n",
              "      <th>num_comments</th>\n",
              "      <th>num_lectures</th>\n",
              "      <th>content_length_min</th>\n",
              "      <th>course_age</th>\n",
              "      <th>total_days_maintained</th>\n",
              "      <th>total_amount</th>\n",
              "    </tr>\n",
              "  </thead>\n",
              "  <tbody>\n",
              "    <tr>\n",
              "      <th>count</th>\n",
              "      <td>1.693600e+05</td>\n",
              "      <td>1.693600e+05</td>\n",
              "      <td>1.693600e+05</td>\n",
              "      <td>1.693600e+05</td>\n",
              "      <td>1.693600e+05</td>\n",
              "      <td>1.693600e+05</td>\n",
              "      <td>1.693600e+05</td>\n",
              "      <td>1.693600e+05</td>\n",
              "      <td>1.693600e+05</td>\n",
              "      <td>1.693600e+05</td>\n",
              "    </tr>\n",
              "    <tr>\n",
              "      <th>mean</th>\n",
              "      <td>9.867717e-17</td>\n",
              "      <td>-5.638695e-17</td>\n",
              "      <td>9.827440e-16</td>\n",
              "      <td>4.296149e-17</td>\n",
              "      <td>-3.222112e-17</td>\n",
              "      <td>2.416584e-17</td>\n",
              "      <td>3.289239e-17</td>\n",
              "      <td>-6.981242e-17</td>\n",
              "      <td>8.055279e-18</td>\n",
              "      <td>4.564658e-17</td>\n",
              "    </tr>\n",
              "    <tr>\n",
              "      <th>std</th>\n",
              "      <td>1.000003e+00</td>\n",
              "      <td>1.000003e+00</td>\n",
              "      <td>1.000003e+00</td>\n",
              "      <td>1.000003e+00</td>\n",
              "      <td>1.000003e+00</td>\n",
              "      <td>1.000003e+00</td>\n",
              "      <td>1.000003e+00</td>\n",
              "      <td>1.000003e+00</td>\n",
              "      <td>1.000003e+00</td>\n",
              "      <td>1.000003e+00</td>\n",
              "    </tr>\n",
              "    <tr>\n",
              "      <th>min</th>\n",
              "      <td>-1.154786e+00</td>\n",
              "      <td>-6.289690e-01</td>\n",
              "      <td>-2.970992e+00</td>\n",
              "      <td>-6.807120e-01</td>\n",
              "      <td>-7.217422e-01</td>\n",
              "      <td>-1.306005e+00</td>\n",
              "      <td>-1.214075e+00</td>\n",
              "      <td>-1.488009e+00</td>\n",
              "      <td>-6.797526e-01</td>\n",
              "      <td>-5.824221e-01</td>\n",
              "    </tr>\n",
              "    <tr>\n",
              "      <th>25%</th>\n",
              "      <td>-8.637423e-01</td>\n",
              "      <td>-6.122617e-01</td>\n",
              "      <td>1.123382e-02</td>\n",
              "      <td>-6.401373e-01</td>\n",
              "      <td>-6.764505e-01</td>\n",
              "      <td>-7.958215e-01</td>\n",
              "      <td>-7.788176e-01</td>\n",
              "      <td>-8.037633e-01</td>\n",
              "      <td>-6.797526e-01</td>\n",
              "      <td>-5.739658e-01</td>\n",
              "    </tr>\n",
              "    <tr>\n",
              "      <th>50%</th>\n",
              "      <td>-4.247626e-01</td>\n",
              "      <td>-5.223882e-01</td>\n",
              "      <td>3.232576e-01</td>\n",
              "      <td>-4.879822e-01</td>\n",
              "      <td>-4.952838e-01</td>\n",
              "      <td>-3.248827e-01</td>\n",
              "      <td>-3.789880e-01</td>\n",
              "      <td>-2.294856e-01</td>\n",
              "      <td>-6.376703e-01</td>\n",
              "      <td>-5.113909e-01</td>\n",
              "    </tr>\n",
              "    <tr>\n",
              "      <th>75%</th>\n",
              "      <td>6.726866e-01</td>\n",
              "      <td>7.273576e-02</td>\n",
              "      <td>5.446743e-01</td>\n",
              "      <td>1.003508e-01</td>\n",
              "      <td>1.840913e-01</td>\n",
              "      <td>5.385051e-01</td>\n",
              "      <td>4.915271e-01</td>\n",
              "      <td>7.541176e-01</td>\n",
              "      <td>4.452453e-01</td>\n",
              "      <td>-3.360801e-02</td>\n",
              "    </tr>\n",
              "    <tr>\n",
              "      <th>max</th>\n",
              "      <td>1.770136e+00</td>\n",
              "      <td>2.459569e+00</td>\n",
              "      <td>7.266005e-01</td>\n",
              "      <td>2.453683e+00</td>\n",
              "      <td>2.403383e+00</td>\n",
              "      <td>2.069056e+00</td>\n",
              "      <td>2.126273e+00</td>\n",
              "      <td>1.838525e+00</td>\n",
              "      <td>2.195865e+00</td>\n",
              "      <td>2.522396e+00</td>\n",
              "    </tr>\n",
              "  </tbody>\n",
              "</table>\n",
              "</div>\n",
              "      <button class=\"colab-df-convert\" onclick=\"convertToInteractive('df-30aedc6e-9962-4272-ae42-8d7200f147e1')\"\n",
              "              title=\"Convert this dataframe to an interactive table.\"\n",
              "              style=\"display:none;\">\n",
              "        \n",
              "  <svg xmlns=\"http://www.w3.org/2000/svg\" height=\"24px\"viewBox=\"0 0 24 24\"\n",
              "       width=\"24px\">\n",
              "    <path d=\"M0 0h24v24H0V0z\" fill=\"none\"/>\n",
              "    <path d=\"M18.56 5.44l.94 2.06.94-2.06 2.06-.94-2.06-.94-.94-2.06-.94 2.06-2.06.94zm-11 1L8.5 8.5l.94-2.06 2.06-.94-2.06-.94L8.5 2.5l-.94 2.06-2.06.94zm10 10l.94 2.06.94-2.06 2.06-.94-2.06-.94-.94-2.06-.94 2.06-2.06.94z\"/><path d=\"M17.41 7.96l-1.37-1.37c-.4-.4-.92-.59-1.43-.59-.52 0-1.04.2-1.43.59L10.3 9.45l-7.72 7.72c-.78.78-.78 2.05 0 2.83L4 21.41c.39.39.9.59 1.41.59.51 0 1.02-.2 1.41-.59l7.78-7.78 2.81-2.81c.8-.78.8-2.07 0-2.86zM5.41 20L4 18.59l7.72-7.72 1.47 1.35L5.41 20z\"/>\n",
              "  </svg>\n",
              "      </button>\n",
              "      \n",
              "  <style>\n",
              "    .colab-df-container {\n",
              "      display:flex;\n",
              "      flex-wrap:wrap;\n",
              "      gap: 12px;\n",
              "    }\n",
              "\n",
              "    .colab-df-convert {\n",
              "      background-color: #E8F0FE;\n",
              "      border: none;\n",
              "      border-radius: 50%;\n",
              "      cursor: pointer;\n",
              "      display: none;\n",
              "      fill: #1967D2;\n",
              "      height: 32px;\n",
              "      padding: 0 0 0 0;\n",
              "      width: 32px;\n",
              "    }\n",
              "\n",
              "    .colab-df-convert:hover {\n",
              "      background-color: #E2EBFA;\n",
              "      box-shadow: 0px 1px 2px rgba(60, 64, 67, 0.3), 0px 1px 3px 1px rgba(60, 64, 67, 0.15);\n",
              "      fill: #174EA6;\n",
              "    }\n",
              "\n",
              "    [theme=dark] .colab-df-convert {\n",
              "      background-color: #3B4455;\n",
              "      fill: #D2E3FC;\n",
              "    }\n",
              "\n",
              "    [theme=dark] .colab-df-convert:hover {\n",
              "      background-color: #434B5C;\n",
              "      box-shadow: 0px 1px 3px 1px rgba(0, 0, 0, 0.15);\n",
              "      filter: drop-shadow(0px 1px 2px rgba(0, 0, 0, 0.3));\n",
              "      fill: #FFFFFF;\n",
              "    }\n",
              "  </style>\n",
              "\n",
              "      <script>\n",
              "        const buttonEl =\n",
              "          document.querySelector('#df-30aedc6e-9962-4272-ae42-8d7200f147e1 button.colab-df-convert');\n",
              "        buttonEl.style.display =\n",
              "          google.colab.kernel.accessAllowed ? 'block' : 'none';\n",
              "\n",
              "        async function convertToInteractive(key) {\n",
              "          const element = document.querySelector('#df-30aedc6e-9962-4272-ae42-8d7200f147e1');\n",
              "          const dataTable =\n",
              "            await google.colab.kernel.invokeFunction('convertToInteractive',\n",
              "                                                     [key], {});\n",
              "          if (!dataTable) return;\n",
              "\n",
              "          const docLinkHtml = 'Like what you see? Visit the ' +\n",
              "            '<a target=\"_blank\" href=https://colab.research.google.com/notebooks/data_table.ipynb>data table notebook</a>'\n",
              "            + ' to learn more about interactive tables.';\n",
              "          element.innerHTML = '';\n",
              "          dataTable['output_type'] = 'display_data';\n",
              "          await google.colab.output.renderOutput(dataTable, element);\n",
              "          const docLink = document.createElement('div');\n",
              "          docLink.innerHTML = docLinkHtml;\n",
              "          element.appendChild(docLink);\n",
              "        }\n",
              "      </script>\n",
              "    </div>\n",
              "  </div>\n",
              "  "
            ]
          },
          "metadata": {},
          "execution_count": 74
        }
      ]
    },
    {
      "cell_type": "code",
      "source": [
        "print(df_normalized_num.isna().sum())"
      ],
      "metadata": {
        "colab": {
          "base_uri": "https://localhost:8080/"
        },
        "id": "u8c_Ojup01ol",
        "outputId": "d5477538-cecc-4045-97dc-159263487a18"
      },
      "execution_count": 75,
      "outputs": [
        {
          "output_type": "stream",
          "name": "stdout",
          "text": [
            "price                    0\n",
            "num_subscribers          0\n",
            "avg_rating               0\n",
            "num_reviews              0\n",
            "num_comments             0\n",
            "num_lectures             0\n",
            "content_length_min       0\n",
            "course_age               0\n",
            "total_days_maintained    0\n",
            "total_amount             0\n",
            "dtype: int64\n"
          ]
        }
      ]
    },
    {
      "cell_type": "code",
      "source": [
        "df_normalized_num.shape"
      ],
      "metadata": {
        "colab": {
          "base_uri": "https://localhost:8080/"
        },
        "id": "ZRg3zc8X8f4f",
        "outputId": "918e4e68-3272-4adb-8c2a-75ecd01e9b8b"
      },
      "execution_count": 49,
      "outputs": [
        {
          "output_type": "execute_result",
          "data": {
            "text/plain": [
              "(169360, 10)"
            ]
          },
          "metadata": {},
          "execution_count": 49
        }
      ]
    },
    {
      "cell_type": "code",
      "source": [
        "#df_normalized_num.info()"
      ],
      "metadata": {
        "id": "kLh6CR5Y1N85"
      },
      "execution_count": 50,
      "outputs": []
    },
    {
      "cell_type": "code",
      "source": [
        "df.shape"
      ],
      "metadata": {
        "colab": {
          "base_uri": "https://localhost:8080/"
        },
        "id": "A3-QUHmb8hV-",
        "outputId": "b9eee870-bde8-4f7a-e16a-9359cd904356"
      },
      "execution_count": 51,
      "outputs": [
        {
          "output_type": "execute_result",
          "data": {
            "text/plain": [
              "(169360, 18)"
            ]
          },
          "metadata": {},
          "execution_count": 51
        }
      ]
    },
    {
      "cell_type": "code",
      "source": [
        "#df.info()"
      ],
      "metadata": {
        "id": "-AgIFgFn1O2l"
      },
      "execution_count": 52,
      "outputs": []
    },
    {
      "cell_type": "code",
      "source": [
        "df = df.reset_index(drop=True)\n",
        "df_normalized_num = df_normalized_num.reset_index(drop=True)\n"
      ],
      "metadata": {
        "id": "KtzRu1xPAUbn"
      },
      "execution_count": 54,
      "outputs": []
    },
    {
      "cell_type": "code",
      "source": [
        "df_normalized_num[\"category\"]=df[\"category\"]"
      ],
      "metadata": {
        "id": "b3JczF4D2glX"
      },
      "execution_count": 55,
      "outputs": []
    },
    {
      "cell_type": "code",
      "source": [
        "df_normalized_num[\"topic\"]=df[\"topic\"]\n",
        "df_normalized_num[\"subcategory\"]=df[\"subcategory\"]\n",
        "df_normalized_num[\"language\"]=df[\"language\"]"
      ],
      "metadata": {
        "id": "u7tJXuj-3UxR"
      },
      "execution_count": 57,
      "outputs": []
    },
    {
      "cell_type": "code",
      "source": [
        "print(df_normalized_num.isna().sum())"
      ],
      "metadata": {
        "colab": {
          "base_uri": "https://localhost:8080/"
        },
        "id": "aBD8c3l0_Ony",
        "outputId": "98fd1d3b-ee0d-412a-883c-e1929c2e4963"
      },
      "execution_count": 76,
      "outputs": [
        {
          "output_type": "stream",
          "name": "stdout",
          "text": [
            "price                    0\n",
            "num_subscribers          0\n",
            "avg_rating               0\n",
            "num_reviews              0\n",
            "num_comments             0\n",
            "num_lectures             0\n",
            "content_length_min       0\n",
            "course_age               0\n",
            "total_days_maintained    0\n",
            "total_amount             0\n",
            "dtype: int64\n"
          ]
        }
      ]
    },
    {
      "cell_type": "code",
      "source": [
        "df_normalized_num.describe()"
      ],
      "metadata": {
        "colab": {
          "base_uri": "https://localhost:8080/",
          "height": 297
        },
        "id": "ZbeYSD--3eqB",
        "outputId": "92912f4e-7792-4927-d83c-078ed13fe0b3"
      },
      "execution_count": 59,
      "outputs": [
        {
          "output_type": "execute_result",
          "data": {
            "text/plain": [
              "              price  num_subscribers    avg_rating   num_reviews  \\\n",
              "count  1.693600e+05     1.693600e+05  1.693600e+05  1.693600e+05   \n",
              "mean   9.867717e-17    -5.638695e-17  9.827440e-16  4.296149e-17   \n",
              "std    1.000003e+00     1.000003e+00  1.000003e+00  1.000003e+00   \n",
              "min   -1.154786e+00    -6.289690e-01 -2.970992e+00 -6.807120e-01   \n",
              "25%   -8.637423e-01    -6.122617e-01  1.123382e-02 -6.401373e-01   \n",
              "50%   -4.247626e-01    -5.223882e-01  3.232576e-01 -4.879822e-01   \n",
              "75%    6.726866e-01     7.273576e-02  5.446743e-01  1.003508e-01   \n",
              "max    1.770136e+00     2.459569e+00  7.266005e-01  2.453683e+00   \n",
              "\n",
              "       num_comments  num_lectures  content_length_min    course_age  \\\n",
              "count  1.693600e+05  1.693600e+05        1.693600e+05  1.693600e+05   \n",
              "mean  -3.222112e-17  2.416584e-17        3.289239e-17 -6.981242e-17   \n",
              "std    1.000003e+00  1.000003e+00        1.000003e+00  1.000003e+00   \n",
              "min   -7.217422e-01 -1.306005e+00       -1.214075e+00 -1.488009e+00   \n",
              "25%   -6.764505e-01 -7.958215e-01       -7.788176e-01 -8.037633e-01   \n",
              "50%   -4.952838e-01 -3.248827e-01       -3.789880e-01 -2.294856e-01   \n",
              "75%    1.840913e-01  5.385051e-01        4.915271e-01  7.541176e-01   \n",
              "max    2.403383e+00  2.069056e+00        2.126273e+00  1.838525e+00   \n",
              "\n",
              "       total_days_maintained  total_amount  \n",
              "count           1.693600e+05  1.693600e+05  \n",
              "mean            8.055279e-18  4.564658e-17  \n",
              "std             1.000003e+00  1.000003e+00  \n",
              "min            -6.797526e-01 -5.824221e-01  \n",
              "25%            -6.797526e-01 -5.739658e-01  \n",
              "50%            -6.376703e-01 -5.113909e-01  \n",
              "75%             4.452453e-01 -3.360801e-02  \n",
              "max             2.195865e+00  2.522396e+00  "
            ],
            "text/html": [
              "\n",
              "  <div id=\"df-05c007f9-131c-4d8d-ae03-88d8c93a742c\">\n",
              "    <div class=\"colab-df-container\">\n",
              "      <div>\n",
              "<style scoped>\n",
              "    .dataframe tbody tr th:only-of-type {\n",
              "        vertical-align: middle;\n",
              "    }\n",
              "\n",
              "    .dataframe tbody tr th {\n",
              "        vertical-align: top;\n",
              "    }\n",
              "\n",
              "    .dataframe thead th {\n",
              "        text-align: right;\n",
              "    }\n",
              "</style>\n",
              "<table border=\"1\" class=\"dataframe\">\n",
              "  <thead>\n",
              "    <tr style=\"text-align: right;\">\n",
              "      <th></th>\n",
              "      <th>price</th>\n",
              "      <th>num_subscribers</th>\n",
              "      <th>avg_rating</th>\n",
              "      <th>num_reviews</th>\n",
              "      <th>num_comments</th>\n",
              "      <th>num_lectures</th>\n",
              "      <th>content_length_min</th>\n",
              "      <th>course_age</th>\n",
              "      <th>total_days_maintained</th>\n",
              "      <th>total_amount</th>\n",
              "    </tr>\n",
              "  </thead>\n",
              "  <tbody>\n",
              "    <tr>\n",
              "      <th>count</th>\n",
              "      <td>1.693600e+05</td>\n",
              "      <td>1.693600e+05</td>\n",
              "      <td>1.693600e+05</td>\n",
              "      <td>1.693600e+05</td>\n",
              "      <td>1.693600e+05</td>\n",
              "      <td>1.693600e+05</td>\n",
              "      <td>1.693600e+05</td>\n",
              "      <td>1.693600e+05</td>\n",
              "      <td>1.693600e+05</td>\n",
              "      <td>1.693600e+05</td>\n",
              "    </tr>\n",
              "    <tr>\n",
              "      <th>mean</th>\n",
              "      <td>9.867717e-17</td>\n",
              "      <td>-5.638695e-17</td>\n",
              "      <td>9.827440e-16</td>\n",
              "      <td>4.296149e-17</td>\n",
              "      <td>-3.222112e-17</td>\n",
              "      <td>2.416584e-17</td>\n",
              "      <td>3.289239e-17</td>\n",
              "      <td>-6.981242e-17</td>\n",
              "      <td>8.055279e-18</td>\n",
              "      <td>4.564658e-17</td>\n",
              "    </tr>\n",
              "    <tr>\n",
              "      <th>std</th>\n",
              "      <td>1.000003e+00</td>\n",
              "      <td>1.000003e+00</td>\n",
              "      <td>1.000003e+00</td>\n",
              "      <td>1.000003e+00</td>\n",
              "      <td>1.000003e+00</td>\n",
              "      <td>1.000003e+00</td>\n",
              "      <td>1.000003e+00</td>\n",
              "      <td>1.000003e+00</td>\n",
              "      <td>1.000003e+00</td>\n",
              "      <td>1.000003e+00</td>\n",
              "    </tr>\n",
              "    <tr>\n",
              "      <th>min</th>\n",
              "      <td>-1.154786e+00</td>\n",
              "      <td>-6.289690e-01</td>\n",
              "      <td>-2.970992e+00</td>\n",
              "      <td>-6.807120e-01</td>\n",
              "      <td>-7.217422e-01</td>\n",
              "      <td>-1.306005e+00</td>\n",
              "      <td>-1.214075e+00</td>\n",
              "      <td>-1.488009e+00</td>\n",
              "      <td>-6.797526e-01</td>\n",
              "      <td>-5.824221e-01</td>\n",
              "    </tr>\n",
              "    <tr>\n",
              "      <th>25%</th>\n",
              "      <td>-8.637423e-01</td>\n",
              "      <td>-6.122617e-01</td>\n",
              "      <td>1.123382e-02</td>\n",
              "      <td>-6.401373e-01</td>\n",
              "      <td>-6.764505e-01</td>\n",
              "      <td>-7.958215e-01</td>\n",
              "      <td>-7.788176e-01</td>\n",
              "      <td>-8.037633e-01</td>\n",
              "      <td>-6.797526e-01</td>\n",
              "      <td>-5.739658e-01</td>\n",
              "    </tr>\n",
              "    <tr>\n",
              "      <th>50%</th>\n",
              "      <td>-4.247626e-01</td>\n",
              "      <td>-5.223882e-01</td>\n",
              "      <td>3.232576e-01</td>\n",
              "      <td>-4.879822e-01</td>\n",
              "      <td>-4.952838e-01</td>\n",
              "      <td>-3.248827e-01</td>\n",
              "      <td>-3.789880e-01</td>\n",
              "      <td>-2.294856e-01</td>\n",
              "      <td>-6.376703e-01</td>\n",
              "      <td>-5.113909e-01</td>\n",
              "    </tr>\n",
              "    <tr>\n",
              "      <th>75%</th>\n",
              "      <td>6.726866e-01</td>\n",
              "      <td>7.273576e-02</td>\n",
              "      <td>5.446743e-01</td>\n",
              "      <td>1.003508e-01</td>\n",
              "      <td>1.840913e-01</td>\n",
              "      <td>5.385051e-01</td>\n",
              "      <td>4.915271e-01</td>\n",
              "      <td>7.541176e-01</td>\n",
              "      <td>4.452453e-01</td>\n",
              "      <td>-3.360801e-02</td>\n",
              "    </tr>\n",
              "    <tr>\n",
              "      <th>max</th>\n",
              "      <td>1.770136e+00</td>\n",
              "      <td>2.459569e+00</td>\n",
              "      <td>7.266005e-01</td>\n",
              "      <td>2.453683e+00</td>\n",
              "      <td>2.403383e+00</td>\n",
              "      <td>2.069056e+00</td>\n",
              "      <td>2.126273e+00</td>\n",
              "      <td>1.838525e+00</td>\n",
              "      <td>2.195865e+00</td>\n",
              "      <td>2.522396e+00</td>\n",
              "    </tr>\n",
              "  </tbody>\n",
              "</table>\n",
              "</div>\n",
              "      <button class=\"colab-df-convert\" onclick=\"convertToInteractive('df-05c007f9-131c-4d8d-ae03-88d8c93a742c')\"\n",
              "              title=\"Convert this dataframe to an interactive table.\"\n",
              "              style=\"display:none;\">\n",
              "        \n",
              "  <svg xmlns=\"http://www.w3.org/2000/svg\" height=\"24px\"viewBox=\"0 0 24 24\"\n",
              "       width=\"24px\">\n",
              "    <path d=\"M0 0h24v24H0V0z\" fill=\"none\"/>\n",
              "    <path d=\"M18.56 5.44l.94 2.06.94-2.06 2.06-.94-2.06-.94-.94-2.06-.94 2.06-2.06.94zm-11 1L8.5 8.5l.94-2.06 2.06-.94-2.06-.94L8.5 2.5l-.94 2.06-2.06.94zm10 10l.94 2.06.94-2.06 2.06-.94-2.06-.94-.94-2.06-.94 2.06-2.06.94z\"/><path d=\"M17.41 7.96l-1.37-1.37c-.4-.4-.92-.59-1.43-.59-.52 0-1.04.2-1.43.59L10.3 9.45l-7.72 7.72c-.78.78-.78 2.05 0 2.83L4 21.41c.39.39.9.59 1.41.59.51 0 1.02-.2 1.41-.59l7.78-7.78 2.81-2.81c.8-.78.8-2.07 0-2.86zM5.41 20L4 18.59l7.72-7.72 1.47 1.35L5.41 20z\"/>\n",
              "  </svg>\n",
              "      </button>\n",
              "      \n",
              "  <style>\n",
              "    .colab-df-container {\n",
              "      display:flex;\n",
              "      flex-wrap:wrap;\n",
              "      gap: 12px;\n",
              "    }\n",
              "\n",
              "    .colab-df-convert {\n",
              "      background-color: #E8F0FE;\n",
              "      border: none;\n",
              "      border-radius: 50%;\n",
              "      cursor: pointer;\n",
              "      display: none;\n",
              "      fill: #1967D2;\n",
              "      height: 32px;\n",
              "      padding: 0 0 0 0;\n",
              "      width: 32px;\n",
              "    }\n",
              "\n",
              "    .colab-df-convert:hover {\n",
              "      background-color: #E2EBFA;\n",
              "      box-shadow: 0px 1px 2px rgba(60, 64, 67, 0.3), 0px 1px 3px 1px rgba(60, 64, 67, 0.15);\n",
              "      fill: #174EA6;\n",
              "    }\n",
              "\n",
              "    [theme=dark] .colab-df-convert {\n",
              "      background-color: #3B4455;\n",
              "      fill: #D2E3FC;\n",
              "    }\n",
              "\n",
              "    [theme=dark] .colab-df-convert:hover {\n",
              "      background-color: #434B5C;\n",
              "      box-shadow: 0px 1px 3px 1px rgba(0, 0, 0, 0.15);\n",
              "      filter: drop-shadow(0px 1px 2px rgba(0, 0, 0, 0.3));\n",
              "      fill: #FFFFFF;\n",
              "    }\n",
              "  </style>\n",
              "\n",
              "      <script>\n",
              "        const buttonEl =\n",
              "          document.querySelector('#df-05c007f9-131c-4d8d-ae03-88d8c93a742c button.colab-df-convert');\n",
              "        buttonEl.style.display =\n",
              "          google.colab.kernel.accessAllowed ? 'block' : 'none';\n",
              "\n",
              "        async function convertToInteractive(key) {\n",
              "          const element = document.querySelector('#df-05c007f9-131c-4d8d-ae03-88d8c93a742c');\n",
              "          const dataTable =\n",
              "            await google.colab.kernel.invokeFunction('convertToInteractive',\n",
              "                                                     [key], {});\n",
              "          if (!dataTable) return;\n",
              "\n",
              "          const docLinkHtml = 'Like what you see? Visit the ' +\n",
              "            '<a target=\"_blank\" href=https://colab.research.google.com/notebooks/data_table.ipynb>data table notebook</a>'\n",
              "            + ' to learn more about interactive tables.';\n",
              "          element.innerHTML = '';\n",
              "          dataTable['output_type'] = 'display_data';\n",
              "          await google.colab.output.renderOutput(dataTable, element);\n",
              "          const docLink = document.createElement('div');\n",
              "          docLink.innerHTML = docLinkHtml;\n",
              "          element.appendChild(docLink);\n",
              "        }\n",
              "      </script>\n",
              "    </div>\n",
              "  </div>\n",
              "  "
            ]
          },
          "metadata": {},
          "execution_count": 59
        }
      ]
    },
    {
      "cell_type": "markdown",
      "source": [
        "## modelling"
      ],
      "metadata": {
        "id": "7POW4vmrBbaf"
      }
    },
    {
      "cell_type": "code",
      "source": [
        "pip install catboost"
      ],
      "metadata": {
        "colab": {
          "base_uri": "https://localhost:8080/"
        },
        "id": "Ujl81uFq3-uj",
        "outputId": "8c320d56-3142-4256-9b21-035e7762227f"
      },
      "execution_count": 105,
      "outputs": [
        {
          "output_type": "stream",
          "name": "stdout",
          "text": [
            "Looking in indexes: https://pypi.org/simple, https://us-python.pkg.dev/colab-wheels/public/simple/\n",
            "Collecting catboost\n",
            "  Downloading catboost-1.1.1-cp38-none-manylinux1_x86_64.whl (76.6 MB)\n",
            "\u001b[2K     \u001b[90m━━━━━━━━━━━━━━━━━━━━━━━━━━━━━━━━━━━━━━━━\u001b[0m \u001b[32m76.6/76.6 MB\u001b[0m \u001b[31m9.9 MB/s\u001b[0m eta \u001b[36m0:00:00\u001b[0m\n",
            "\u001b[?25hRequirement already satisfied: numpy>=1.16.0 in /usr/local/lib/python3.8/dist-packages (from catboost) (1.21.6)\n",
            "Requirement already satisfied: six in /usr/local/lib/python3.8/dist-packages (from catboost) (1.15.0)\n",
            "Requirement already satisfied: graphviz in /usr/local/lib/python3.8/dist-packages (from catboost) (0.10.1)\n",
            "Requirement already satisfied: matplotlib in /usr/local/lib/python3.8/dist-packages (from catboost) (3.2.2)\n",
            "Requirement already satisfied: plotly in /usr/local/lib/python3.8/dist-packages (from catboost) (5.5.0)\n",
            "Requirement already satisfied: pandas>=0.24.0 in /usr/local/lib/python3.8/dist-packages (from catboost) (1.3.5)\n",
            "Requirement already satisfied: scipy in /usr/local/lib/python3.8/dist-packages (from catboost) (1.7.3)\n",
            "Requirement already satisfied: python-dateutil>=2.7.3 in /usr/local/lib/python3.8/dist-packages (from pandas>=0.24.0->catboost) (2.8.2)\n",
            "Requirement already satisfied: pytz>=2017.3 in /usr/local/lib/python3.8/dist-packages (from pandas>=0.24.0->catboost) (2022.7.1)\n",
            "Requirement already satisfied: cycler>=0.10 in /usr/local/lib/python3.8/dist-packages (from matplotlib->catboost) (0.11.0)\n",
            "Requirement already satisfied: kiwisolver>=1.0.1 in /usr/local/lib/python3.8/dist-packages (from matplotlib->catboost) (1.4.4)\n",
            "Requirement already satisfied: pyparsing!=2.0.4,!=2.1.2,!=2.1.6,>=2.0.1 in /usr/local/lib/python3.8/dist-packages (from matplotlib->catboost) (3.0.9)\n",
            "Requirement already satisfied: tenacity>=6.2.0 in /usr/local/lib/python3.8/dist-packages (from plotly->catboost) (8.1.0)\n",
            "Installing collected packages: catboost\n",
            "Successfully installed catboost-1.1.1\n"
          ]
        }
      ]
    },
    {
      "cell_type": "code",
      "source": [
        "from catboost import CatBoostRegressor"
      ],
      "metadata": {
        "id": "lEFH0QU84Cz_"
      },
      "execution_count": 61,
      "outputs": []
    },
    {
      "cell_type": "code",
      "source": [
        "X = df_normalized_num.drop(columns=['price'])\n",
        "y = df_normalized_num['price']"
      ],
      "metadata": {
        "id": "--l8sBVY4L_G"
      },
      "execution_count": 62,
      "outputs": []
    },
    {
      "cell_type": "code",
      "source": [
        "from sklearn.model_selection import train_test_split\n",
        "X_train, X_test, y_train, y_test = train_test_split(X, y, test_size=0.2, random_state=42)\n"
      ],
      "metadata": {
        "id": "QICNzEyD4ec6"
      },
      "execution_count": 63,
      "outputs": []
    },
    {
      "cell_type": "code",
      "source": [
        "categorical_features_indices = np.where(X.dtypes != np.float)[0]"
      ],
      "metadata": {
        "id": "iN4bx5IJ4kGb"
      },
      "execution_count": 64,
      "outputs": []
    },
    {
      "cell_type": "code",
      "source": [
        "X.dtypes "
      ],
      "metadata": {
        "colab": {
          "base_uri": "https://localhost:8080/"
        },
        "id": "GSYXXxcn66lR",
        "outputId": "a84f4bde-0682-41fa-e84c-4c41b6de28a5"
      },
      "execution_count": 65,
      "outputs": [
        {
          "output_type": "execute_result",
          "data": {
            "text/plain": [
              "num_subscribers          float64\n",
              "avg_rating               float64\n",
              "num_reviews              float64\n",
              "num_comments             float64\n",
              "num_lectures             float64\n",
              "content_length_min       float64\n",
              "course_age               float64\n",
              "total_days_maintained    float64\n",
              "total_amount             float64\n",
              "category                  object\n",
              "topic                     object\n",
              "subcategory               object\n",
              "language                  object\n",
              "dtype: object"
            ]
          },
          "metadata": {},
          "execution_count": 65
        }
      ]
    },
    {
      "cell_type": "code",
      "source": [
        "categoricalcolumns = X.select_dtypes(include=[\"object\"]).columns.tolist()\n",
        "print(\"Names of categorical columns : \", categoricalcolumns)\n",
        "#Get location of categorical columns\n",
        "cat_features = [X.columns.get_loc(col) for col in categoricalcolumns]\n",
        "print(\"Location of categorical columns : \",cat_features)"
      ],
      "metadata": {
        "colab": {
          "base_uri": "https://localhost:8080/"
        },
        "id": "JrRzgjAwBEDt",
        "outputId": "1373e069-8a16-4bc0-e1e6-a56e7ebbbaee"
      },
      "execution_count": 66,
      "outputs": [
        {
          "output_type": "stream",
          "name": "stdout",
          "text": [
            "Names of categorical columns :  ['category', 'topic', 'subcategory', 'language']\n",
            "Location of categorical columns :  [9, 10, 11, 12]\n"
          ]
        }
      ]
    },
    {
      "cell_type": "code",
      "source": [
        "from catboost import Pool\n",
        "#Creating pool object for train dataset. we give information of categorical fetures to parameter cat_fetaures\n",
        "train_data = Pool(data=X_train,\n",
        "                  label=y_train,\n",
        "                  cat_features=cat_features\n",
        "                 )\n",
        "#Creating pool object for test dataset\n",
        "test_data = Pool(data=X_test,\n",
        "                  label=y_test,\n",
        "                  cat_features=cat_features\n",
        "                 )"
      ],
      "metadata": {
        "id": "CQejDDBF4mj6"
      },
      "execution_count": 67,
      "outputs": []
    },
    {
      "cell_type": "code",
      "source": [
        "from catboost import CatBoostRegressor"
      ],
      "metadata": {
        "id": "576DlRwy4urr"
      },
      "execution_count": 68,
      "outputs": []
    },
    {
      "cell_type": "code",
      "source": [
        "model = CatBoostRegressor(depth=8, learning_rate=0.01, l2_leaf_reg=5,loss_function=\"RMSE\")"
      ],
      "metadata": {
        "id": "fw1T4y0m4pDG"
      },
      "execution_count": 69,
      "outputs": []
    },
    {
      "cell_type": "code",
      "source": [
        "model.fit(X_train, y_train,verbose=False,eval_set=(X_test, y_test))"
      ],
      "metadata": {
        "colab": {
          "base_uri": "https://localhost:8080/",
          "height": 718
        },
        "id": "yhmA8_FW4vfa",
        "outputId": "caae4d53-c19d-450f-eeee-e1827bf1ab73"
      },
      "execution_count": 70,
      "outputs": [
        {
          "output_type": "error",
          "ename": "CatBoostError",
          "evalue": "ignored",
          "traceback": [
            "\u001b[0;31m---------------------------------------------------------------------------\u001b[0m",
            "\u001b[0;31mTypeError\u001b[0m                                 Traceback (most recent call last)",
            "\u001b[0;32m_catboost.pyx\u001b[0m in \u001b[0;36m_catboost.get_float_feature\u001b[0;34m()\u001b[0m\n",
            "\u001b[0;32m_catboost.pyx\u001b[0m in \u001b[0;36m_catboost._FloatOrNan\u001b[0;34m()\u001b[0m\n",
            "\u001b[0;32m_catboost.pyx\u001b[0m in \u001b[0;36m_catboost._FloatOrNanFromString\u001b[0;34m()\u001b[0m\n",
            "\u001b[0;31mTypeError\u001b[0m: Cannot convert 'b'Business'' to float",
            "\nDuring handling of the above exception, another exception occurred:\n",
            "\u001b[0;31mCatBoostError\u001b[0m                             Traceback (most recent call last)",
            "\u001b[0;32m<ipython-input-70-e8aa0b562e93>\u001b[0m in \u001b[0;36m<module>\u001b[0;34m\u001b[0m\n\u001b[0;32m----> 1\u001b[0;31m \u001b[0mmodel\u001b[0m\u001b[0;34m.\u001b[0m\u001b[0mfit\u001b[0m\u001b[0;34m(\u001b[0m\u001b[0mX_train\u001b[0m\u001b[0;34m,\u001b[0m \u001b[0my_train\u001b[0m\u001b[0;34m,\u001b[0m\u001b[0mverbose\u001b[0m\u001b[0;34m=\u001b[0m\u001b[0;32mFalse\u001b[0m\u001b[0;34m,\u001b[0m\u001b[0meval_set\u001b[0m\u001b[0;34m=\u001b[0m\u001b[0;34m(\u001b[0m\u001b[0mX_test\u001b[0m\u001b[0;34m,\u001b[0m \u001b[0my_test\u001b[0m\u001b[0;34m)\u001b[0m\u001b[0;34m)\u001b[0m\u001b[0;34m\u001b[0m\u001b[0;34m\u001b[0m\u001b[0m\n\u001b[0m",
            "\u001b[0;32m/usr/local/lib/python3.8/dist-packages/catboost/core.py\u001b[0m in \u001b[0;36mfit\u001b[0;34m(self, X, y, cat_features, text_features, embedding_features, sample_weight, baseline, use_best_model, eval_set, verbose, logging_level, plot, plot_file, column_description, verbose_eval, metric_period, silent, early_stopping_rounds, save_snapshot, snapshot_file, snapshot_interval, init_model, callbacks, log_cout, log_cerr)\u001b[0m\n\u001b[1;32m   5728\u001b[0m             \u001b[0mCatBoostRegressor\u001b[0m\u001b[0;34m.\u001b[0m\u001b[0m_check_is_compatible_loss\u001b[0m\u001b[0;34m(\u001b[0m\u001b[0mparams\u001b[0m\u001b[0;34m[\u001b[0m\u001b[0;34m'loss_function'\u001b[0m\u001b[0;34m]\u001b[0m\u001b[0;34m)\u001b[0m\u001b[0;34m\u001b[0m\u001b[0;34m\u001b[0m\u001b[0m\n\u001b[1;32m   5729\u001b[0m \u001b[0;34m\u001b[0m\u001b[0m\n\u001b[0;32m-> 5730\u001b[0;31m         return self._fit(X, y, cat_features, text_features, embedding_features, None, sample_weight, None, None, None, None, baseline,\n\u001b[0m\u001b[1;32m   5731\u001b[0m                          \u001b[0muse_best_model\u001b[0m\u001b[0;34m,\u001b[0m \u001b[0meval_set\u001b[0m\u001b[0;34m,\u001b[0m \u001b[0mverbose\u001b[0m\u001b[0;34m,\u001b[0m \u001b[0mlogging_level\u001b[0m\u001b[0;34m,\u001b[0m \u001b[0mplot\u001b[0m\u001b[0;34m,\u001b[0m \u001b[0mplot_file\u001b[0m\u001b[0;34m,\u001b[0m \u001b[0mcolumn_description\u001b[0m\u001b[0;34m,\u001b[0m\u001b[0;34m\u001b[0m\u001b[0;34m\u001b[0m\u001b[0m\n\u001b[1;32m   5732\u001b[0m                          \u001b[0mverbose_eval\u001b[0m\u001b[0;34m,\u001b[0m \u001b[0mmetric_period\u001b[0m\u001b[0;34m,\u001b[0m \u001b[0msilent\u001b[0m\u001b[0;34m,\u001b[0m \u001b[0mearly_stopping_rounds\u001b[0m\u001b[0;34m,\u001b[0m\u001b[0;34m\u001b[0m\u001b[0;34m\u001b[0m\u001b[0m\n",
            "\u001b[0;32m/usr/local/lib/python3.8/dist-packages/catboost/core.py\u001b[0m in \u001b[0;36m_fit\u001b[0;34m(self, X, y, cat_features, text_features, embedding_features, pairs, sample_weight, group_id, group_weight, subgroup_id, pairs_weight, baseline, use_best_model, eval_set, verbose, logging_level, plot, plot_file, column_description, verbose_eval, metric_period, silent, early_stopping_rounds, save_snapshot, snapshot_file, snapshot_interval, init_model, callbacks, log_cout, log_cerr)\u001b[0m\n\u001b[1;32m   2337\u001b[0m             \u001b[0;32mraise\u001b[0m \u001b[0mCatBoostError\u001b[0m\u001b[0;34m(\u001b[0m\u001b[0;34m\"y may be None only when X is an instance of catboost.Pool or string\"\u001b[0m\u001b[0;34m)\u001b[0m\u001b[0;34m\u001b[0m\u001b[0;34m\u001b[0m\u001b[0m\n\u001b[1;32m   2338\u001b[0m \u001b[0;34m\u001b[0m\u001b[0m\n\u001b[0;32m-> 2339\u001b[0;31m         train_params = self._prepare_train_params(\n\u001b[0m\u001b[1;32m   2340\u001b[0m             \u001b[0mX\u001b[0m\u001b[0;34m=\u001b[0m\u001b[0mX\u001b[0m\u001b[0;34m,\u001b[0m \u001b[0my\u001b[0m\u001b[0;34m=\u001b[0m\u001b[0my\u001b[0m\u001b[0;34m,\u001b[0m \u001b[0mcat_features\u001b[0m\u001b[0;34m=\u001b[0m\u001b[0mcat_features\u001b[0m\u001b[0;34m,\u001b[0m \u001b[0mtext_features\u001b[0m\u001b[0;34m=\u001b[0m\u001b[0mtext_features\u001b[0m\u001b[0;34m,\u001b[0m \u001b[0membedding_features\u001b[0m\u001b[0;34m=\u001b[0m\u001b[0membedding_features\u001b[0m\u001b[0;34m,\u001b[0m\u001b[0;34m\u001b[0m\u001b[0;34m\u001b[0m\u001b[0m\n\u001b[1;32m   2341\u001b[0m             \u001b[0mpairs\u001b[0m\u001b[0;34m=\u001b[0m\u001b[0mpairs\u001b[0m\u001b[0;34m,\u001b[0m \u001b[0msample_weight\u001b[0m\u001b[0;34m=\u001b[0m\u001b[0msample_weight\u001b[0m\u001b[0;34m,\u001b[0m \u001b[0mgroup_id\u001b[0m\u001b[0;34m=\u001b[0m\u001b[0mgroup_id\u001b[0m\u001b[0;34m,\u001b[0m \u001b[0mgroup_weight\u001b[0m\u001b[0;34m=\u001b[0m\u001b[0mgroup_weight\u001b[0m\u001b[0;34m,\u001b[0m\u001b[0;34m\u001b[0m\u001b[0;34m\u001b[0m\u001b[0m\n",
            "\u001b[0;32m/usr/local/lib/python3.8/dist-packages/catboost/core.py\u001b[0m in \u001b[0;36m_prepare_train_params\u001b[0;34m(self, X, y, cat_features, text_features, embedding_features, pairs, sample_weight, group_id, group_weight, subgroup_id, pairs_weight, baseline, use_best_model, eval_set, verbose, logging_level, plot, plot_file, column_description, verbose_eval, metric_period, silent, early_stopping_rounds, save_snapshot, snapshot_file, snapshot_interval, init_model, callbacks)\u001b[0m\n\u001b[1;32m   2218\u001b[0m         \u001b[0membedding_features\u001b[0m \u001b[0;34m=\u001b[0m \u001b[0m_process_feature_indices\u001b[0m\u001b[0;34m(\u001b[0m\u001b[0membedding_features\u001b[0m\u001b[0;34m,\u001b[0m \u001b[0mX\u001b[0m\u001b[0;34m,\u001b[0m \u001b[0mparams\u001b[0m\u001b[0;34m,\u001b[0m \u001b[0;34m'embedding_features'\u001b[0m\u001b[0;34m)\u001b[0m\u001b[0;34m\u001b[0m\u001b[0;34m\u001b[0m\u001b[0m\n\u001b[1;32m   2219\u001b[0m \u001b[0;34m\u001b[0m\u001b[0m\n\u001b[0;32m-> 2220\u001b[0;31m         train_pool = _build_train_pool(X, y, cat_features, text_features, embedding_features, pairs,\n\u001b[0m\u001b[1;32m   2221\u001b[0m                                        \u001b[0msample_weight\u001b[0m\u001b[0;34m,\u001b[0m \u001b[0mgroup_id\u001b[0m\u001b[0;34m,\u001b[0m \u001b[0mgroup_weight\u001b[0m\u001b[0;34m,\u001b[0m \u001b[0msubgroup_id\u001b[0m\u001b[0;34m,\u001b[0m \u001b[0mpairs_weight\u001b[0m\u001b[0;34m,\u001b[0m\u001b[0;34m\u001b[0m\u001b[0;34m\u001b[0m\u001b[0m\n\u001b[1;32m   2222\u001b[0m                                        baseline, column_description)\n",
            "\u001b[0;32m/usr/local/lib/python3.8/dist-packages/catboost/core.py\u001b[0m in \u001b[0;36m_build_train_pool\u001b[0;34m(X, y, cat_features, text_features, embedding_features, pairs, sample_weight, group_id, group_weight, subgroup_id, pairs_weight, baseline, column_description)\u001b[0m\n\u001b[1;32m   1436\u001b[0m         \u001b[0;32mif\u001b[0m \u001b[0my\u001b[0m \u001b[0;32mis\u001b[0m \u001b[0;32mNone\u001b[0m\u001b[0;34m:\u001b[0m\u001b[0;34m\u001b[0m\u001b[0;34m\u001b[0m\u001b[0m\n\u001b[1;32m   1437\u001b[0m             \u001b[0;32mraise\u001b[0m \u001b[0mCatBoostError\u001b[0m\u001b[0;34m(\u001b[0m\u001b[0;34m\"y has not initialized in fit(): X is not catboost.Pool object, y must be not None in fit().\"\u001b[0m\u001b[0;34m)\u001b[0m\u001b[0;34m\u001b[0m\u001b[0;34m\u001b[0m\u001b[0m\n\u001b[0;32m-> 1438\u001b[0;31m         train_pool = Pool(X, y, cat_features=cat_features, text_features=text_features, embedding_features=embedding_features, pairs=pairs, weight=sample_weight, group_id=group_id,\n\u001b[0m\u001b[1;32m   1439\u001b[0m                           group_weight=group_weight, subgroup_id=subgroup_id, pairs_weight=pairs_weight, baseline=baseline)\n\u001b[1;32m   1440\u001b[0m     \u001b[0;32mreturn\u001b[0m \u001b[0mtrain_pool\u001b[0m\u001b[0;34m\u001b[0m\u001b[0;34m\u001b[0m\u001b[0m\n",
            "\u001b[0;32m/usr/local/lib/python3.8/dist-packages/catboost/core.py\u001b[0m in \u001b[0;36m__init__\u001b[0;34m(self, data, label, cat_features, text_features, embedding_features, embedding_features_data, column_description, pairs, delimiter, has_header, ignore_csv_quoting, weight, group_id, group_weight, subgroup_id, pairs_weight, baseline, timestamp, feature_names, feature_tags, thread_count, log_cout, log_cerr)\u001b[0m\n\u001b[1;32m    790\u001b[0m                     )\n\u001b[1;32m    791\u001b[0m \u001b[0;34m\u001b[0m\u001b[0m\n\u001b[0;32m--> 792\u001b[0;31m                 self._init(data, label, cat_features, text_features, embedding_features, embedding_features_data, pairs, weight,\n\u001b[0m\u001b[1;32m    793\u001b[0m                            group_id, group_weight, subgroup_id, pairs_weight, baseline, timestamp, feature_names, feature_tags, thread_count)\n\u001b[1;32m    794\u001b[0m         \u001b[0msuper\u001b[0m\u001b[0;34m(\u001b[0m\u001b[0mPool\u001b[0m\u001b[0;34m,\u001b[0m \u001b[0mself\u001b[0m\u001b[0;34m)\u001b[0m\u001b[0;34m.\u001b[0m\u001b[0m__init__\u001b[0m\u001b[0;34m(\u001b[0m\u001b[0;34m)\u001b[0m\u001b[0;34m\u001b[0m\u001b[0;34m\u001b[0m\u001b[0m\n",
            "\u001b[0;32m/usr/local/lib/python3.8/dist-packages/catboost/core.py\u001b[0m in \u001b[0;36m_init\u001b[0;34m(self, data, label, cat_features, text_features, embedding_features, embedding_features_data, pairs, weight, group_id, group_weight, subgroup_id, pairs_weight, baseline, timestamp, feature_names, feature_tags, thread_count)\u001b[0m\n\u001b[1;32m   1417\u001b[0m         \u001b[0;32mif\u001b[0m \u001b[0mfeature_tags\u001b[0m \u001b[0;32mis\u001b[0m \u001b[0;32mnot\u001b[0m \u001b[0;32mNone\u001b[0m\u001b[0;34m:\u001b[0m\u001b[0;34m\u001b[0m\u001b[0;34m\u001b[0m\u001b[0m\n\u001b[1;32m   1418\u001b[0m             \u001b[0mfeature_tags\u001b[0m \u001b[0;34m=\u001b[0m \u001b[0mself\u001b[0m\u001b[0;34m.\u001b[0m\u001b[0m_check_transform_tags\u001b[0m\u001b[0;34m(\u001b[0m\u001b[0mfeature_tags\u001b[0m\u001b[0;34m,\u001b[0m \u001b[0mfeature_names\u001b[0m\u001b[0;34m)\u001b[0m\u001b[0;34m\u001b[0m\u001b[0;34m\u001b[0m\u001b[0m\n\u001b[0;32m-> 1419\u001b[0;31m         self._init_pool(data, label, cat_features, text_features, embedding_features, embedding_features_data, pairs, weight,\n\u001b[0m\u001b[1;32m   1420\u001b[0m                         group_id, group_weight, subgroup_id, pairs_weight, baseline, timestamp, feature_names, feature_tags, thread_count)\n\u001b[1;32m   1421\u001b[0m \u001b[0;34m\u001b[0m\u001b[0m\n",
            "\u001b[0;32m_catboost.pyx\u001b[0m in \u001b[0;36m_catboost._PoolBase._init_pool\u001b[0;34m()\u001b[0m\n",
            "\u001b[0;32m_catboost.pyx\u001b[0m in \u001b[0;36m_catboost._PoolBase._init_pool\u001b[0;34m()\u001b[0m\n",
            "\u001b[0;32m_catboost.pyx\u001b[0m in \u001b[0;36m_catboost._PoolBase._init_features_order_layout_pool\u001b[0;34m()\u001b[0m\n",
            "\u001b[0;32m_catboost.pyx\u001b[0m in \u001b[0;36m_catboost._set_features_order_data_pd_data_frame\u001b[0;34m()\u001b[0m\n",
            "\u001b[0;32m_catboost.pyx\u001b[0m in \u001b[0;36m_catboost.create_num_factor_data\u001b[0;34m()\u001b[0m\n",
            "\u001b[0;32m_catboost.pyx\u001b[0m in \u001b[0;36m_catboost.get_float_feature\u001b[0;34m()\u001b[0m\n",
            "\u001b[0;31mCatBoostError\u001b[0m: Bad value for num_feature[non_default_doc_idx=0,feature_idx=9]=\"Business\": Cannot convert 'b'Business'' to float"
          ]
        }
      ]
    },
    {
      "cell_type": "code",
      "source": [],
      "metadata": {
        "id": "exxSdHNj4rwg"
      },
      "execution_count": null,
      "outputs": []
    }
  ]
}